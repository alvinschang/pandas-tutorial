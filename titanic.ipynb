{
 "cells": [
  {
   "cell_type": "markdown",
   "id": "1880517a-42b3-4a84-a97f-db1cdc0f72ac",
   "metadata": {},
   "source": [
    "# Pandas tutorial - Titanic data\n",
    "\n",
    "This is a sample tutorial to walk you through Pandas and Jupyter Notebooks. Find the [repository here](https://github.com/alvinschang/pandas-tutorialhttps://github.com/alvinschang/pandas-tutorial)."
   ]
  },
  {
   "cell_type": "markdown",
   "id": "a8db31b1-24a9-4e15-8c49-222be5efca32",
   "metadata": {},
   "source": [
    "What you're reading now is a Jupyter Notebook. It is a user interface for Python code, but as you can see it also allows for words (and do much more) to be embedded directly into the code.\n",
    "\n",
    "* Python is a programming language.\n",
    "* Pandas is a library written to make data analysis much easier in Python. "
   ]
  },
  {
   "cell_type": "markdown",
   "id": "c0f94d5a-2f78-48e9-9487-648fa7ca3974",
   "metadata": {},
   "source": [
    "## Getting started\n",
    "\n",
    "The first thing we'll do is import pandas into the code."
   ]
  },
  {
   "cell_type": "code",
   "execution_count": 1,
   "id": "c9d21844-3c41-4728-a337-e4efd9c59f36",
   "metadata": {},
   "outputs": [],
   "source": [
    "import pandas as pd"
   ]
  },
  {
   "cell_type": "markdown",
   "id": "32dd15a1-ec0f-4df3-869c-4d8484edacb5",
   "metadata": {},
   "source": [
    "Next let's import our data. Pandas takes several file formats. For example...\n",
    "\n",
    "* [CSV](https://pandas.pydata.org/docs/reference/api/pandas.read_csv.html)\n",
    "* [Other delimited data](https://pandas.pydata.org/docs/reference/api/pandas.read_table.html)\n",
    "* [Excel](https://pandas.pydata.org/docs/reference/api/pandas.read_excel.html)\n",
    "* [Fixed-width data](https://pandas.pydata.org/docs/reference/api/pandas.read_fwf.html)\n",
    "* [Stata](https://pandas.pydata.org/docs/reference/api/pandas.read_stata.html)\n",
    "* [SPSS](https://pandas.pydata.org/docs/reference/api/pandas.read_spss.html)\n",
    "* [SAS](https://pandas.pydata.org/docs/reference/api/pandas.read_sas.html)\n",
    "\n",
    "Each requires a slightly different method to import data. But CSV is the most common type of data you'll be using. In this folder, I also have a file called `titanic_data.csv` which we will import into Pandas.\n",
    "\n",
    "In the code below, we are creating a variable called `df` and telling Python that, every time we write `df`, it will refer to the entirety of `titanic_data.csv`."
   ]
  },
  {
   "cell_type": "code",
   "execution_count": 2,
   "id": "10ff715e-9b69-45f5-8e1b-498ebfa42d48",
   "metadata": {},
   "outputs": [],
   "source": [
    "df = pd.read_csv(\"titanic_data.csv\")"
   ]
  },
  {
   "cell_type": "markdown",
   "id": "a9bd918f-35a8-46f1-9555-f245ac512b42",
   "metadata": {},
   "source": [
    "Notably, we can also grab this file from online!"
   ]
  },
  {
   "cell_type": "code",
   "execution_count": 75,
   "id": "1cd800bb-374d-43b6-a70f-a21b9f574ce2",
   "metadata": {},
   "outputs": [],
   "source": [
    "df = pd.read_csv(\"https://raw.githubusercontent.com/alvinschang/pandas-tutorial/main/titanic_data.csv\")"
   ]
  },
  {
   "cell_type": "markdown",
   "id": "01fdfe86-21bc-43ec-a393-129c2e0bfe16",
   "metadata": {},
   "source": [
    "Now we can preview the data by simply typing the name of the variable. Notably, this isn't the original data. Instead, it is the data converted into Pandas format – something called a `dataframe`."
   ]
  },
  {
   "cell_type": "code",
   "execution_count": 3,
   "id": "7af4f2be-7e29-47ba-a468-6f4417407166",
   "metadata": {},
   "outputs": [
    {
     "data": {
      "text/html": [
       "<div><div id=49ab6753-b2ea-42aa-93e2-454624edd4e3 style=\"display:none; background-color:#9D6CFF; color:white; width:200px; height:30px; padding-left:5px; border-radius:4px; flex-direction:row; justify-content:space-around; align-items:center;\" onmouseover=\"this.style.backgroundColor='#BA9BF8'\" onmouseout=\"this.style.backgroundColor='#9D6CFF'\" onclick=\"window.commands?.execute('create-mitosheet-from-dataframe-output');\">See Full Dataframe in Mito</div> <script> if (window.commands?.hasCommand('create-mitosheet-from-dataframe-output')) document.getElementById('49ab6753-b2ea-42aa-93e2-454624edd4e3').style.display = 'flex' </script> <table border=\"1\" class=\"dataframe\">\n",
       "  <thead>\n",
       "    <tr style=\"text-align: right;\">\n",
       "      <th></th>\n",
       "      <th>pclass</th>\n",
       "      <th>survived</th>\n",
       "      <th>name</th>\n",
       "      <th>sex</th>\n",
       "      <th>age</th>\n",
       "      <th>sibsp</th>\n",
       "      <th>parch</th>\n",
       "      <th>family members</th>\n",
       "      <th>ticket</th>\n",
       "      <th>fare</th>\n",
       "      <th>cabin</th>\n",
       "      <th>embarked</th>\n",
       "      <th>boat</th>\n",
       "      <th>body</th>\n",
       "      <th>home.dest</th>\n",
       "    </tr>\n",
       "  </thead>\n",
       "  <tbody>\n",
       "    <tr>\n",
       "      <th>0</th>\n",
       "      <td>1</td>\n",
       "      <td>0</td>\n",
       "      <td>Fortune, Mr. Mark</td>\n",
       "      <td>male</td>\n",
       "      <td>64.0</td>\n",
       "      <td>1</td>\n",
       "      <td>4</td>\n",
       "      <td>5</td>\n",
       "      <td>19950</td>\n",
       "      <td>263.0</td>\n",
       "      <td>C23 C25 C27</td>\n",
       "      <td>S</td>\n",
       "      <td>NaN</td>\n",
       "      <td>NaN</td>\n",
       "      <td>Winnipeg, MB</td>\n",
       "    </tr>\n",
       "    <tr>\n",
       "      <th>1</th>\n",
       "      <td>1</td>\n",
       "      <td>1</td>\n",
       "      <td>Fortune, Mrs. Mark (Mary McDougald)</td>\n",
       "      <td>female</td>\n",
       "      <td>60.0</td>\n",
       "      <td>1</td>\n",
       "      <td>4</td>\n",
       "      <td>5</td>\n",
       "      <td>19950</td>\n",
       "      <td>263.0</td>\n",
       "      <td>C23 C25 C27</td>\n",
       "      <td>S</td>\n",
       "      <td>10</td>\n",
       "      <td>NaN</td>\n",
       "      <td>Winnipeg, MB</td>\n",
       "    </tr>\n",
       "    <tr>\n",
       "      <th>2</th>\n",
       "      <td>1</td>\n",
       "      <td>1</td>\n",
       "      <td>Fortune, Miss. Ethel Flora</td>\n",
       "      <td>female</td>\n",
       "      <td>28.0</td>\n",
       "      <td>3</td>\n",
       "      <td>2</td>\n",
       "      <td>5</td>\n",
       "      <td>19950</td>\n",
       "      <td>263.0</td>\n",
       "      <td>C23 C25 C27</td>\n",
       "      <td>S</td>\n",
       "      <td>10</td>\n",
       "      <td>NaN</td>\n",
       "      <td>Winnipeg, MB</td>\n",
       "    </tr>\n",
       "    <tr>\n",
       "      <th>3</th>\n",
       "      <td>1</td>\n",
       "      <td>1</td>\n",
       "      <td>Fortune, Miss. Alice Elizabeth</td>\n",
       "      <td>female</td>\n",
       "      <td>24.0</td>\n",
       "      <td>3</td>\n",
       "      <td>2</td>\n",
       "      <td>5</td>\n",
       "      <td>19950</td>\n",
       "      <td>263.0</td>\n",
       "      <td>C23 C25 C27</td>\n",
       "      <td>S</td>\n",
       "      <td>10</td>\n",
       "      <td>NaN</td>\n",
       "      <td>Winnipeg, MB</td>\n",
       "    </tr>\n",
       "    <tr>\n",
       "      <th>4</th>\n",
       "      <td>1</td>\n",
       "      <td>1</td>\n",
       "      <td>Fortune, Miss. Mabel Helen</td>\n",
       "      <td>female</td>\n",
       "      <td>23.0</td>\n",
       "      <td>3</td>\n",
       "      <td>2</td>\n",
       "      <td>5</td>\n",
       "      <td>19950</td>\n",
       "      <td>263.0</td>\n",
       "      <td>C23 C25 C27</td>\n",
       "      <td>S</td>\n",
       "      <td>10</td>\n",
       "      <td>NaN</td>\n",
       "      <td>Winnipeg, MB</td>\n",
       "    </tr>\n",
       "    <tr>\n",
       "      <th>...</th>\n",
       "      <td>...</td>\n",
       "      <td>...</td>\n",
       "      <td>...</td>\n",
       "      <td>...</td>\n",
       "      <td>...</td>\n",
       "      <td>...</td>\n",
       "      <td>...</td>\n",
       "      <td>...</td>\n",
       "      <td>...</td>\n",
       "      <td>...</td>\n",
       "      <td>...</td>\n",
       "      <td>...</td>\n",
       "      <td>...</td>\n",
       "      <td>...</td>\n",
       "      <td>...</td>\n",
       "    </tr>\n",
       "    <tr>\n",
       "      <th>1304</th>\n",
       "      <td>3</td>\n",
       "      <td>0</td>\n",
       "      <td>Johnson, Mr. Alfred</td>\n",
       "      <td>male</td>\n",
       "      <td>49.0</td>\n",
       "      <td>0</td>\n",
       "      <td>0</td>\n",
       "      <td>0</td>\n",
       "      <td>LINE</td>\n",
       "      <td>0.0</td>\n",
       "      <td>NaN</td>\n",
       "      <td>S</td>\n",
       "      <td>NaN</td>\n",
       "      <td>NaN</td>\n",
       "      <td>NaN</td>\n",
       "    </tr>\n",
       "    <tr>\n",
       "      <th>1305</th>\n",
       "      <td>3</td>\n",
       "      <td>0</td>\n",
       "      <td>Leonard, Mr. Lionel</td>\n",
       "      <td>male</td>\n",
       "      <td>36.0</td>\n",
       "      <td>0</td>\n",
       "      <td>0</td>\n",
       "      <td>0</td>\n",
       "      <td>LINE</td>\n",
       "      <td>0.0</td>\n",
       "      <td>NaN</td>\n",
       "      <td>S</td>\n",
       "      <td>NaN</td>\n",
       "      <td>NaN</td>\n",
       "      <td>NaN</td>\n",
       "    </tr>\n",
       "    <tr>\n",
       "      <th>1306</th>\n",
       "      <td>3</td>\n",
       "      <td>1</td>\n",
       "      <td>Tornquist, Mr. William Henry</td>\n",
       "      <td>male</td>\n",
       "      <td>25.0</td>\n",
       "      <td>0</td>\n",
       "      <td>0</td>\n",
       "      <td>0</td>\n",
       "      <td>LINE</td>\n",
       "      <td>0.0</td>\n",
       "      <td>NaN</td>\n",
       "      <td>S</td>\n",
       "      <td>15</td>\n",
       "      <td>NaN</td>\n",
       "      <td>NaN</td>\n",
       "    </tr>\n",
       "    <tr>\n",
       "      <th>1307</th>\n",
       "      <td>3</td>\n",
       "      <td>0</td>\n",
       "      <td>Johnson, Mr. William Cahoone Jr</td>\n",
       "      <td>male</td>\n",
       "      <td>19.0</td>\n",
       "      <td>0</td>\n",
       "      <td>0</td>\n",
       "      <td>0</td>\n",
       "      <td>LINE</td>\n",
       "      <td>0.0</td>\n",
       "      <td>NaN</td>\n",
       "      <td>S</td>\n",
       "      <td>NaN</td>\n",
       "      <td>NaN</td>\n",
       "      <td>NaN</td>\n",
       "    </tr>\n",
       "    <tr>\n",
       "      <th>1308</th>\n",
       "      <td>3</td>\n",
       "      <td>0</td>\n",
       "      <td>Storey, Mr. Thomas</td>\n",
       "      <td>male</td>\n",
       "      <td>60.5</td>\n",
       "      <td>0</td>\n",
       "      <td>0</td>\n",
       "      <td>0</td>\n",
       "      <td>3701</td>\n",
       "      <td>NaN</td>\n",
       "      <td>NaN</td>\n",
       "      <td>S</td>\n",
       "      <td>NaN</td>\n",
       "      <td>261.0</td>\n",
       "      <td>NaN</td>\n",
       "    </tr>\n",
       "  </tbody>\n",
       "</table></div>"
      ],
      "text/plain": [
       "      pclass  survived                                 name     sex   age  \\\n",
       "0          1         0                    Fortune, Mr. Mark    male  64.0   \n",
       "1          1         1  Fortune, Mrs. Mark (Mary McDougald)  female  60.0   \n",
       "2          1         1           Fortune, Miss. Ethel Flora  female  28.0   \n",
       "3          1         1       Fortune, Miss. Alice Elizabeth  female  24.0   \n",
       "4          1         1           Fortune, Miss. Mabel Helen  female  23.0   \n",
       "...      ...       ...                                  ...     ...   ...   \n",
       "1304       3         0                  Johnson, Mr. Alfred    male  49.0   \n",
       "1305       3         0                  Leonard, Mr. Lionel    male  36.0   \n",
       "1306       3         1         Tornquist, Mr. William Henry    male  25.0   \n",
       "1307       3         0      Johnson, Mr. William Cahoone Jr    male  19.0   \n",
       "1308       3         0                   Storey, Mr. Thomas    male  60.5   \n",
       "\n",
       "      sibsp  parch  family members ticket   fare        cabin embarked boat  \\\n",
       "0         1      4               5  19950  263.0  C23 C25 C27        S  NaN   \n",
       "1         1      4               5  19950  263.0  C23 C25 C27        S   10   \n",
       "2         3      2               5  19950  263.0  C23 C25 C27        S   10   \n",
       "3         3      2               5  19950  263.0  C23 C25 C27        S   10   \n",
       "4         3      2               5  19950  263.0  C23 C25 C27        S   10   \n",
       "...     ...    ...             ...    ...    ...          ...      ...  ...   \n",
       "1304      0      0               0   LINE    0.0          NaN        S  NaN   \n",
       "1305      0      0               0   LINE    0.0          NaN        S  NaN   \n",
       "1306      0      0               0   LINE    0.0          NaN        S   15   \n",
       "1307      0      0               0   LINE    0.0          NaN        S  NaN   \n",
       "1308      0      0               0   3701    NaN          NaN        S  NaN   \n",
       "\n",
       "       body     home.dest  \n",
       "0       NaN  Winnipeg, MB  \n",
       "1       NaN  Winnipeg, MB  \n",
       "2       NaN  Winnipeg, MB  \n",
       "3       NaN  Winnipeg, MB  \n",
       "4       NaN  Winnipeg, MB  \n",
       "...     ...           ...  \n",
       "1304    NaN           NaN  \n",
       "1305    NaN           NaN  \n",
       "1306    NaN           NaN  \n",
       "1307    NaN           NaN  \n",
       "1308  261.0           NaN  \n",
       "\n",
       "[1309 rows x 15 columns]"
      ]
     },
     "execution_count": 3,
     "metadata": {},
     "output_type": "execute_result"
    }
   ],
   "source": [
    "df"
   ]
  },
  {
   "cell_type": "markdown",
   "id": "ea5a34c5-e2b5-4f1d-9fb2-fbbd5e7aca98",
   "metadata": {},
   "source": [
    "Unlike Excel, the point of Pandas isn't to view all of your data at once. Instead, it just shows you previews of the data, because typically you'll be working with datasets so large that it doesn't make sense to view it line by line (at least not yet!)"
   ]
  },
  {
   "cell_type": "markdown",
   "id": "16336a63-ca18-4e2c-ae82-62c9081a4bc9",
   "metadata": {},
   "source": [
    "## Summarizing your data"
   ]
  },
  {
   "cell_type": "markdown",
   "id": "3d59daed-ec53-4f35-8f7e-14da458f8e93",
   "metadata": {},
   "source": [
    "Pandas has several built-in tools to quickly analyze your data. Let's try each of them.\n",
    "\n",
    "The first is called `info()` and it tells you what columns exist in the data, as well as what kind of data exists in those columns."
   ]
  },
  {
   "cell_type": "code",
   "execution_count": 4,
   "id": "b45dd86a-1477-441e-8424-92f2b72c6e21",
   "metadata": {},
   "outputs": [
    {
     "name": "stdout",
     "output_type": "stream",
     "text": [
      "<class 'pandas.core.frame.DataFrame'>\n",
      "RangeIndex: 1309 entries, 0 to 1308\n",
      "Data columns (total 15 columns):\n",
      " #   Column          Non-Null Count  Dtype  \n",
      "---  ------          --------------  -----  \n",
      " 0   pclass          1309 non-null   int64  \n",
      " 1   survived        1309 non-null   int64  \n",
      " 2   name            1309 non-null   object \n",
      " 3   sex             1309 non-null   object \n",
      " 4   age             1046 non-null   float64\n",
      " 5   sibsp           1309 non-null   int64  \n",
      " 6   parch           1309 non-null   int64  \n",
      " 7   family members  1309 non-null   int64  \n",
      " 8   ticket          1309 non-null   object \n",
      " 9   fare            1308 non-null   float64\n",
      " 10  cabin           295 non-null    object \n",
      " 11  embarked        1307 non-null   object \n",
      " 12  boat            486 non-null    object \n",
      " 13  body            121 non-null    float64\n",
      " 14  home.dest       745 non-null    object \n",
      "dtypes: float64(3), int64(5), object(7)\n",
      "memory usage: 153.5+ KB\n"
     ]
    }
   ],
   "source": [
    "df.info()"
   ]
  },
  {
   "cell_type": "markdown",
   "id": "26b50947-faea-4466-9884-34e274c92a22",
   "metadata": {},
   "source": [
    "The `describe()` function provides summaries about the numerical content in the data – the mean, median, standard deviation, min, 25th percentile, 50th, 75th, and max."
   ]
  },
  {
   "cell_type": "code",
   "execution_count": 5,
   "id": "bd09e03e-23b8-40b0-8690-0ebe88ce9d40",
   "metadata": {},
   "outputs": [
    {
     "data": {
      "text/html": [
       "<div><div id=a46dd64e-fe8b-42f8-aeaf-4554b82b5d79 style=\"display:none; background-color:#9D6CFF; color:white; width:200px; height:30px; padding-left:5px; border-radius:4px; flex-direction:row; justify-content:space-around; align-items:center;\" onmouseover=\"this.style.backgroundColor='#BA9BF8'\" onmouseout=\"this.style.backgroundColor='#9D6CFF'\" onclick=\"window.commands?.execute('create-mitosheet-from-dataframe-output');\">See Full Dataframe in Mito</div> <script> if (window.commands?.hasCommand('create-mitosheet-from-dataframe-output')) document.getElementById('a46dd64e-fe8b-42f8-aeaf-4554b82b5d79').style.display = 'flex' </script> <table border=\"1\" class=\"dataframe\">\n",
       "  <thead>\n",
       "    <tr style=\"text-align: right;\">\n",
       "      <th></th>\n",
       "      <th>pclass</th>\n",
       "      <th>survived</th>\n",
       "      <th>age</th>\n",
       "      <th>sibsp</th>\n",
       "      <th>parch</th>\n",
       "      <th>family members</th>\n",
       "      <th>fare</th>\n",
       "      <th>body</th>\n",
       "    </tr>\n",
       "  </thead>\n",
       "  <tbody>\n",
       "    <tr>\n",
       "      <th>count</th>\n",
       "      <td>1309.000000</td>\n",
       "      <td>1309.000000</td>\n",
       "      <td>1046.000000</td>\n",
       "      <td>1309.000000</td>\n",
       "      <td>1309.000000</td>\n",
       "      <td>1309.000000</td>\n",
       "      <td>1308.000000</td>\n",
       "      <td>121.000000</td>\n",
       "    </tr>\n",
       "    <tr>\n",
       "      <th>mean</th>\n",
       "      <td>2.294882</td>\n",
       "      <td>0.381971</td>\n",
       "      <td>29.881135</td>\n",
       "      <td>0.498854</td>\n",
       "      <td>0.385027</td>\n",
       "      <td>0.883881</td>\n",
       "      <td>33.296261</td>\n",
       "      <td>160.809917</td>\n",
       "    </tr>\n",
       "    <tr>\n",
       "      <th>std</th>\n",
       "      <td>0.837836</td>\n",
       "      <td>0.486055</td>\n",
       "      <td>14.413500</td>\n",
       "      <td>1.041658</td>\n",
       "      <td>0.865560</td>\n",
       "      <td>1.583639</td>\n",
       "      <td>51.758691</td>\n",
       "      <td>97.696922</td>\n",
       "    </tr>\n",
       "    <tr>\n",
       "      <th>min</th>\n",
       "      <td>1.000000</td>\n",
       "      <td>0.000000</td>\n",
       "      <td>0.166700</td>\n",
       "      <td>0.000000</td>\n",
       "      <td>0.000000</td>\n",
       "      <td>0.000000</td>\n",
       "      <td>0.000000</td>\n",
       "      <td>1.000000</td>\n",
       "    </tr>\n",
       "    <tr>\n",
       "      <th>25%</th>\n",
       "      <td>2.000000</td>\n",
       "      <td>0.000000</td>\n",
       "      <td>21.000000</td>\n",
       "      <td>0.000000</td>\n",
       "      <td>0.000000</td>\n",
       "      <td>0.000000</td>\n",
       "      <td>7.900000</td>\n",
       "      <td>72.000000</td>\n",
       "    </tr>\n",
       "    <tr>\n",
       "      <th>50%</th>\n",
       "      <td>3.000000</td>\n",
       "      <td>0.000000</td>\n",
       "      <td>28.000000</td>\n",
       "      <td>0.000000</td>\n",
       "      <td>0.000000</td>\n",
       "      <td>0.000000</td>\n",
       "      <td>14.450000</td>\n",
       "      <td>155.000000</td>\n",
       "    </tr>\n",
       "    <tr>\n",
       "      <th>75%</th>\n",
       "      <td>3.000000</td>\n",
       "      <td>1.000000</td>\n",
       "      <td>39.000000</td>\n",
       "      <td>1.000000</td>\n",
       "      <td>0.000000</td>\n",
       "      <td>1.000000</td>\n",
       "      <td>31.280000</td>\n",
       "      <td>256.000000</td>\n",
       "    </tr>\n",
       "    <tr>\n",
       "      <th>max</th>\n",
       "      <td>3.000000</td>\n",
       "      <td>1.000000</td>\n",
       "      <td>80.000000</td>\n",
       "      <td>8.000000</td>\n",
       "      <td>9.000000</td>\n",
       "      <td>10.000000</td>\n",
       "      <td>512.330000</td>\n",
       "      <td>328.000000</td>\n",
       "    </tr>\n",
       "  </tbody>\n",
       "</table></div>"
      ],
      "text/plain": [
       "            pclass     survived          age        sibsp        parch  \\\n",
       "count  1309.000000  1309.000000  1046.000000  1309.000000  1309.000000   \n",
       "mean      2.294882     0.381971    29.881135     0.498854     0.385027   \n",
       "std       0.837836     0.486055    14.413500     1.041658     0.865560   \n",
       "min       1.000000     0.000000     0.166700     0.000000     0.000000   \n",
       "25%       2.000000     0.000000    21.000000     0.000000     0.000000   \n",
       "50%       3.000000     0.000000    28.000000     0.000000     0.000000   \n",
       "75%       3.000000     1.000000    39.000000     1.000000     0.000000   \n",
       "max       3.000000     1.000000    80.000000     8.000000     9.000000   \n",
       "\n",
       "       family members         fare        body  \n",
       "count     1309.000000  1308.000000  121.000000  \n",
       "mean         0.883881    33.296261  160.809917  \n",
       "std          1.583639    51.758691   97.696922  \n",
       "min          0.000000     0.000000    1.000000  \n",
       "25%          0.000000     7.900000   72.000000  \n",
       "50%          0.000000    14.450000  155.000000  \n",
       "75%          1.000000    31.280000  256.000000  \n",
       "max         10.000000   512.330000  328.000000  "
      ]
     },
     "execution_count": 5,
     "metadata": {},
     "output_type": "execute_result"
    }
   ],
   "source": [
    "df.describe()"
   ]
  },
  {
   "cell_type": "markdown",
   "id": "901e40d3-2766-444f-bb1d-a7b2ba044352",
   "metadata": {},
   "source": [
    "You can also ask for other percentiles."
   ]
  },
  {
   "cell_type": "code",
   "execution_count": 9,
   "id": "159d5cba-5185-4266-8964-e7673fae14ab",
   "metadata": {},
   "outputs": [
    {
     "data": {
      "text/html": [
       "<div><div id=75378222-1c55-4f1a-af3c-d543814ecbfa style=\"display:none; background-color:#9D6CFF; color:white; width:200px; height:30px; padding-left:5px; border-radius:4px; flex-direction:row; justify-content:space-around; align-items:center;\" onmouseover=\"this.style.backgroundColor='#BA9BF8'\" onmouseout=\"this.style.backgroundColor='#9D6CFF'\" onclick=\"window.commands?.execute('create-mitosheet-from-dataframe-output');\">See Full Dataframe in Mito</div> <script> if (window.commands?.hasCommand('create-mitosheet-from-dataframe-output')) document.getElementById('75378222-1c55-4f1a-af3c-d543814ecbfa').style.display = 'flex' </script> <table border=\"1\" class=\"dataframe\">\n",
       "  <thead>\n",
       "    <tr style=\"text-align: right;\">\n",
       "      <th></th>\n",
       "      <th>pclass</th>\n",
       "      <th>survived</th>\n",
       "      <th>age</th>\n",
       "      <th>sibsp</th>\n",
       "      <th>parch</th>\n",
       "      <th>family members</th>\n",
       "      <th>fare</th>\n",
       "      <th>body</th>\n",
       "    </tr>\n",
       "  </thead>\n",
       "  <tbody>\n",
       "    <tr>\n",
       "      <th>count</th>\n",
       "      <td>1309.000000</td>\n",
       "      <td>1309.000000</td>\n",
       "      <td>1046.000000</td>\n",
       "      <td>1309.000000</td>\n",
       "      <td>1309.000000</td>\n",
       "      <td>1309.000000</td>\n",
       "      <td>1308.000000</td>\n",
       "      <td>121.000000</td>\n",
       "    </tr>\n",
       "    <tr>\n",
       "      <th>mean</th>\n",
       "      <td>2.294882</td>\n",
       "      <td>0.381971</td>\n",
       "      <td>29.881135</td>\n",
       "      <td>0.498854</td>\n",
       "      <td>0.385027</td>\n",
       "      <td>0.883881</td>\n",
       "      <td>33.296261</td>\n",
       "      <td>160.809917</td>\n",
       "    </tr>\n",
       "    <tr>\n",
       "      <th>std</th>\n",
       "      <td>0.837836</td>\n",
       "      <td>0.486055</td>\n",
       "      <td>14.413500</td>\n",
       "      <td>1.041658</td>\n",
       "      <td>0.865560</td>\n",
       "      <td>1.583639</td>\n",
       "      <td>51.758691</td>\n",
       "      <td>97.696922</td>\n",
       "    </tr>\n",
       "    <tr>\n",
       "      <th>min</th>\n",
       "      <td>1.000000</td>\n",
       "      <td>0.000000</td>\n",
       "      <td>0.166700</td>\n",
       "      <td>0.000000</td>\n",
       "      <td>0.000000</td>\n",
       "      <td>0.000000</td>\n",
       "      <td>0.000000</td>\n",
       "      <td>1.000000</td>\n",
       "    </tr>\n",
       "    <tr>\n",
       "      <th>10%</th>\n",
       "      <td>1.000000</td>\n",
       "      <td>0.000000</td>\n",
       "      <td>14.000000</td>\n",
       "      <td>0.000000</td>\n",
       "      <td>0.000000</td>\n",
       "      <td>0.000000</td>\n",
       "      <td>7.571000</td>\n",
       "      <td>35.000000</td>\n",
       "    </tr>\n",
       "    <tr>\n",
       "      <th>50%</th>\n",
       "      <td>3.000000</td>\n",
       "      <td>0.000000</td>\n",
       "      <td>28.000000</td>\n",
       "      <td>0.000000</td>\n",
       "      <td>0.000000</td>\n",
       "      <td>0.000000</td>\n",
       "      <td>14.450000</td>\n",
       "      <td>155.000000</td>\n",
       "    </tr>\n",
       "    <tr>\n",
       "      <th>90%</th>\n",
       "      <td>3.000000</td>\n",
       "      <td>1.000000</td>\n",
       "      <td>50.000000</td>\n",
       "      <td>1.000000</td>\n",
       "      <td>2.000000</td>\n",
       "      <td>2.000000</td>\n",
       "      <td>78.053000</td>\n",
       "      <td>297.000000</td>\n",
       "    </tr>\n",
       "    <tr>\n",
       "      <th>max</th>\n",
       "      <td>3.000000</td>\n",
       "      <td>1.000000</td>\n",
       "      <td>80.000000</td>\n",
       "      <td>8.000000</td>\n",
       "      <td>9.000000</td>\n",
       "      <td>10.000000</td>\n",
       "      <td>512.330000</td>\n",
       "      <td>328.000000</td>\n",
       "    </tr>\n",
       "  </tbody>\n",
       "</table></div>"
      ],
      "text/plain": [
       "            pclass     survived          age        sibsp        parch  \\\n",
       "count  1309.000000  1309.000000  1046.000000  1309.000000  1309.000000   \n",
       "mean      2.294882     0.381971    29.881135     0.498854     0.385027   \n",
       "std       0.837836     0.486055    14.413500     1.041658     0.865560   \n",
       "min       1.000000     0.000000     0.166700     0.000000     0.000000   \n",
       "10%       1.000000     0.000000    14.000000     0.000000     0.000000   \n",
       "50%       3.000000     0.000000    28.000000     0.000000     0.000000   \n",
       "90%       3.000000     1.000000    50.000000     1.000000     2.000000   \n",
       "max       3.000000     1.000000    80.000000     8.000000     9.000000   \n",
       "\n",
       "       family members         fare        body  \n",
       "count     1309.000000  1308.000000  121.000000  \n",
       "mean         0.883881    33.296261  160.809917  \n",
       "std          1.583639    51.758691   97.696922  \n",
       "min          0.000000     0.000000    1.000000  \n",
       "10%          0.000000     7.571000   35.000000  \n",
       "50%          0.000000    14.450000  155.000000  \n",
       "90%          2.000000    78.053000  297.000000  \n",
       "max         10.000000   512.330000  328.000000  "
      ]
     },
     "execution_count": 9,
     "metadata": {},
     "output_type": "execute_result"
    }
   ],
   "source": [
    "df.describe(percentiles = [.10,.90])"
   ]
  },
  {
   "cell_type": "markdown",
   "id": "035bdbb3-f97d-46a2-b988-b8feb55452e6",
   "metadata": {},
   "source": [
    "And you can also ask for just some of the columns."
   ]
  },
  {
   "cell_type": "code",
   "execution_count": 14,
   "id": "403e4157-b035-48c1-9c7e-fe081e74f565",
   "metadata": {},
   "outputs": [
    {
     "data": {
      "text/plain": [
       "count    1046.000000\n",
       "mean       29.881135\n",
       "std        14.413500\n",
       "min         0.166700\n",
       "25%        21.000000\n",
       "50%        28.000000\n",
       "75%        39.000000\n",
       "max        80.000000\n",
       "Name: age, dtype: float64"
      ]
     },
     "execution_count": 14,
     "metadata": {},
     "output_type": "execute_result"
    }
   ],
   "source": [
    "df[\"age\"].describe()"
   ]
  },
  {
   "cell_type": "markdown",
   "id": "24f5cf82-b90d-4c8b-8be4-2329961dcf72",
   "metadata": {},
   "source": [
    "We can use `sum()` to add up all of the total fare paid to get on the Titanic. "
   ]
  },
  {
   "cell_type": "code",
   "execution_count": 21,
   "id": "dde785bb-967a-4ec4-959b-cb116d09dc93",
   "metadata": {},
   "outputs": [
    {
     "data": {
      "text/plain": [
       "43551.51"
      ]
     },
     "execution_count": 21,
     "metadata": {},
     "output_type": "execute_result"
    }
   ],
   "source": [
    "df[\"fare\"].sum()"
   ]
  },
  {
   "cell_type": "markdown",
   "id": "b46f2152-8a8d-4570-ba4c-78380d72b14a",
   "metadata": {},
   "source": [
    "Other functions provide similar summaries. But note that only the last line of your code is outputed here. So if you want to see the `mean()` you should put it on a separate line."
   ]
  },
  {
   "cell_type": "code",
   "execution_count": 22,
   "id": "d2a7746c-4230-42a3-8c62-673f10a94a44",
   "metadata": {},
   "outputs": [
    {
     "data": {
      "text/plain": [
       "14.45"
      ]
     },
     "execution_count": 22,
     "metadata": {},
     "output_type": "execute_result"
    }
   ],
   "source": [
    "df[\"fare\"].min()\n",
    "df[\"fare\"].max()\n",
    "df[\"fare\"].mean()\n",
    "df[\"fare\"].median()"
   ]
  },
  {
   "cell_type": "markdown",
   "id": "ada757c3-b0aa-463e-b00f-442d9aa16739",
   "metadata": {},
   "source": [
    "## Grouping and analyzing"
   ]
  },
  {
   "cell_type": "markdown",
   "id": "75092007-dd80-4e98-abbe-6f15e9711c95",
   "metadata": {},
   "source": [
    "What if we wanted to find the **average fare** paid by first class, second class, and third class.\n",
    "\n",
    "We first need to group by `pclass`..."
   ]
  },
  {
   "cell_type": "code",
   "execution_count": 23,
   "id": "a58ff661-244e-4c9f-a124-9eec9092f3f5",
   "metadata": {},
   "outputs": [
    {
     "data": {
      "text/plain": [
       "<pandas.core.groupby.generic.DataFrameGroupBy object at 0x7fc9d81190d0>"
      ]
     },
     "execution_count": 23,
     "metadata": {},
     "output_type": "execute_result"
    }
   ],
   "source": [
    "df.groupby(\"pclass\")"
   ]
  },
  {
   "cell_type": "markdown",
   "id": "c3ed23b4-a32a-419a-a19e-be750722f0f9",
   "metadata": {},
   "source": [
    "This looks like gibberish, but once we complete the next step it will output something human-readable.\n",
    "\n",
    "Now let's add a line to find average `fare`.\n",
    "\n",
    "One very simple method is to simply call the `mean()` function. This will give you the average of every numerical column."
   ]
  },
  {
   "cell_type": "code",
   "execution_count": 25,
   "id": "4c6c754c-476b-4797-8612-28372d116d1a",
   "metadata": {},
   "outputs": [
    {
     "data": {
      "text/html": [
       "<div><div id=f189ed03-0f42-442e-a68a-9699bdbc1a8e style=\"display:none; background-color:#9D6CFF; color:white; width:200px; height:30px; padding-left:5px; border-radius:4px; flex-direction:row; justify-content:space-around; align-items:center;\" onmouseover=\"this.style.backgroundColor='#BA9BF8'\" onmouseout=\"this.style.backgroundColor='#9D6CFF'\" onclick=\"window.commands?.execute('create-mitosheet-from-dataframe-output');\">See Full Dataframe in Mito</div> <script> if (window.commands?.hasCommand('create-mitosheet-from-dataframe-output')) document.getElementById('f189ed03-0f42-442e-a68a-9699bdbc1a8e').style.display = 'flex' </script> <table border=\"1\" class=\"dataframe\">\n",
       "  <thead>\n",
       "    <tr style=\"text-align: right;\">\n",
       "      <th></th>\n",
       "      <th>survived</th>\n",
       "      <th>age</th>\n",
       "      <th>sibsp</th>\n",
       "      <th>parch</th>\n",
       "      <th>family members</th>\n",
       "      <th>fare</th>\n",
       "      <th>body</th>\n",
       "    </tr>\n",
       "    <tr>\n",
       "      <th>pclass</th>\n",
       "      <th></th>\n",
       "      <th></th>\n",
       "      <th></th>\n",
       "      <th></th>\n",
       "      <th></th>\n",
       "      <th></th>\n",
       "      <th></th>\n",
       "    </tr>\n",
       "  </thead>\n",
       "  <tbody>\n",
       "    <tr>\n",
       "      <th>1</th>\n",
       "      <td>0.619195</td>\n",
       "      <td>39.159918</td>\n",
       "      <td>0.436533</td>\n",
       "      <td>0.365325</td>\n",
       "      <td>0.801858</td>\n",
       "      <td>87.509350</td>\n",
       "      <td>162.828571</td>\n",
       "    </tr>\n",
       "    <tr>\n",
       "      <th>2</th>\n",
       "      <td>0.429603</td>\n",
       "      <td>29.506705</td>\n",
       "      <td>0.393502</td>\n",
       "      <td>0.368231</td>\n",
       "      <td>0.761733</td>\n",
       "      <td>21.179278</td>\n",
       "      <td>167.387097</td>\n",
       "    </tr>\n",
       "    <tr>\n",
       "      <th>3</th>\n",
       "      <td>0.255289</td>\n",
       "      <td>24.816367</td>\n",
       "      <td>0.568406</td>\n",
       "      <td>0.400564</td>\n",
       "      <td>0.968970</td>\n",
       "      <td>13.304138</td>\n",
       "      <td>155.818182</td>\n",
       "    </tr>\n",
       "  </tbody>\n",
       "</table></div>"
      ],
      "text/plain": [
       "        survived        age     sibsp     parch  family members       fare  \\\n",
       "pclass                                                                       \n",
       "1       0.619195  39.159918  0.436533  0.365325        0.801858  87.509350   \n",
       "2       0.429603  29.506705  0.393502  0.368231        0.761733  21.179278   \n",
       "3       0.255289  24.816367  0.568406  0.400564        0.968970  13.304138   \n",
       "\n",
       "              body  \n",
       "pclass              \n",
       "1       162.828571  \n",
       "2       167.387097  \n",
       "3       155.818182  "
      ]
     },
     "execution_count": 25,
     "metadata": {},
     "output_type": "execute_result"
    }
   ],
   "source": [
    "df.groupby(\"pclass\").mean()"
   ]
  },
  {
   "cell_type": "markdown",
   "id": "790c55f9-ae38-4206-959f-ce6e0e43cdbf",
   "metadata": {},
   "source": [
    "You can also hone in on just one or two columns."
   ]
  },
  {
   "cell_type": "code",
   "execution_count": 33,
   "id": "33c7ee0b-fb90-40a4-8dbb-4b8b874bf6e8",
   "metadata": {},
   "outputs": [
    {
     "data": {
      "text/html": [
       "<div><div id=9f7c5ae8-8682-4c18-a664-03770b902d79 style=\"display:none; background-color:#9D6CFF; color:white; width:200px; height:30px; padding-left:5px; border-radius:4px; flex-direction:row; justify-content:space-around; align-items:center;\" onmouseover=\"this.style.backgroundColor='#BA9BF8'\" onmouseout=\"this.style.backgroundColor='#9D6CFF'\" onclick=\"window.commands?.execute('create-mitosheet-from-dataframe-output');\">See Full Dataframe in Mito</div> <script> if (window.commands?.hasCommand('create-mitosheet-from-dataframe-output')) document.getElementById('9f7c5ae8-8682-4c18-a664-03770b902d79').style.display = 'flex' </script> <table border=\"1\" class=\"dataframe\">\n",
       "  <thead>\n",
       "    <tr style=\"text-align: right;\">\n",
       "      <th></th>\n",
       "      <th>fare</th>\n",
       "      <th>age</th>\n",
       "    </tr>\n",
       "    <tr>\n",
       "      <th>pclass</th>\n",
       "      <th></th>\n",
       "      <th></th>\n",
       "    </tr>\n",
       "  </thead>\n",
       "  <tbody>\n",
       "    <tr>\n",
       "      <th>1</th>\n",
       "      <td>87.509350</td>\n",
       "      <td>39.159918</td>\n",
       "    </tr>\n",
       "    <tr>\n",
       "      <th>2</th>\n",
       "      <td>21.179278</td>\n",
       "      <td>29.506705</td>\n",
       "    </tr>\n",
       "    <tr>\n",
       "      <th>3</th>\n",
       "      <td>13.304138</td>\n",
       "      <td>24.816367</td>\n",
       "    </tr>\n",
       "  </tbody>\n",
       "</table></div>"
      ],
      "text/plain": [
       "             fare        age\n",
       "pclass                      \n",
       "1       87.509350  39.159918\n",
       "2       21.179278  29.506705\n",
       "3       13.304138  24.816367"
      ]
     },
     "execution_count": 33,
     "metadata": {},
     "output_type": "execute_result"
    }
   ],
   "source": [
    "df.groupby(\"pclass\")[[\"fare\",\"age\"]].mean()"
   ]
  },
  {
   "cell_type": "markdown",
   "id": "84e16322-331c-4fb8-a58c-c23d49c8f458",
   "metadata": {},
   "source": [
    "## Quick visualization"
   ]
  },
  {
   "cell_type": "markdown",
   "id": "9d10f73d-2dd5-48d1-82fa-767069905194",
   "metadata": {},
   "source": [
    "Pandas also has some quick-and-dirty charting functions using a library called `matplotlib`. \n",
    "\n",
    "* Let's chart average `fare` by `pclass`.\n",
    "* First, let's create a variable with the data we want to chart.\n",
    "* I often like to assign a variable, and then run the variable name right under so I know what the data looks like."
   ]
  },
  {
   "cell_type": "code",
   "execution_count": 35,
   "id": "aef38b42-1614-4874-9b60-543e620be70c",
   "metadata": {},
   "outputs": [
    {
     "data": {
      "text/html": [
       "<div><div id=778e97f7-6e62-44a0-af5b-9e454bb88627 style=\"display:none; background-color:#9D6CFF; color:white; width:200px; height:30px; padding-left:5px; border-radius:4px; flex-direction:row; justify-content:space-around; align-items:center;\" onmouseover=\"this.style.backgroundColor='#BA9BF8'\" onmouseout=\"this.style.backgroundColor='#9D6CFF'\" onclick=\"window.commands?.execute('create-mitosheet-from-dataframe-output');\">See Full Dataframe in Mito</div> <script> if (window.commands?.hasCommand('create-mitosheet-from-dataframe-output')) document.getElementById('778e97f7-6e62-44a0-af5b-9e454bb88627').style.display = 'flex' </script> <table border=\"1\" class=\"dataframe\">\n",
       "  <thead>\n",
       "    <tr style=\"text-align: right;\">\n",
       "      <th></th>\n",
       "      <th>fare</th>\n",
       "    </tr>\n",
       "    <tr>\n",
       "      <th>pclass</th>\n",
       "      <th></th>\n",
       "    </tr>\n",
       "  </thead>\n",
       "  <tbody>\n",
       "    <tr>\n",
       "      <th>1</th>\n",
       "      <td>87.509350</td>\n",
       "    </tr>\n",
       "    <tr>\n",
       "      <th>2</th>\n",
       "      <td>21.179278</td>\n",
       "    </tr>\n",
       "    <tr>\n",
       "      <th>3</th>\n",
       "      <td>13.304138</td>\n",
       "    </tr>\n",
       "  </tbody>\n",
       "</table></div>"
      ],
      "text/plain": [
       "             fare\n",
       "pclass           \n",
       "1       87.509350\n",
       "2       21.179278\n",
       "3       13.304138"
      ]
     },
     "execution_count": 35,
     "metadata": {},
     "output_type": "execute_result"
    }
   ],
   "source": [
    "df_fare_class = df.groupby(\"pclass\")[[\"fare\"]].mean()\n",
    "df_fare_class"
   ]
  },
  {
   "cell_type": "markdown",
   "id": "6ded097f-3574-4b70-b58f-1f4b6f496a6e",
   "metadata": {},
   "source": [
    "Now let's chart it."
   ]
  },
  {
   "cell_type": "code",
   "execution_count": 36,
   "id": "b5c7f94f-7dfe-4569-a945-ab69d7303cab",
   "metadata": {},
   "outputs": [
    {
     "data": {
      "text/plain": [
       "<AxesSubplot:xlabel='pclass'>"
      ]
     },
     "execution_count": 36,
     "metadata": {},
     "output_type": "execute_result"
    },
    {
     "data": {
      "image/png": "[encoded data removed]",
      "text/plain": [
       "<Figure size 432x288 with 1 Axes>"
      ]
     },
     "metadata": {
      "needs_background": "light"
     },
     "output_type": "display_data"
    }
   ],
   "source": [
    "df_fare_class.plot()"
   ]
  },
  {
   "cell_type": "markdown",
   "id": "7fed8abf-86e0-4b2d-8438-950f626f6882",
   "metadata": {},
   "source": [
    "Pandas likes line charts. Let's make it a bar chart."
   ]
  },
  {
   "cell_type": "code",
   "execution_count": 37,
   "id": "c46334e6-13a1-4fda-8990-145ebb2a4724",
   "metadata": {},
   "outputs": [
    {
     "data": {
      "text/plain": [
       "<AxesSubplot:xlabel='pclass'>"
      ]
     },
     "execution_count": 37,
     "metadata": {},
     "output_type": "execute_result"
    },
    {
     "data": {
      "image/png": "[encoded data removed]",
      "text/plain": [
       "<Figure size 432x288 with 1 Axes>"
      ]
     },
     "metadata": {
      "needs_background": "light"
     },
     "output_type": "display_data"
    }
   ],
   "source": [
    "df_fare_class.plot(kind=\"bar\")"
   ]
  },
  {
   "cell_type": "markdown",
   "id": "aabe5f6b-e639-465e-8117-58d9ed1a7ada",
   "metadata": {},
   "source": [
    "## More visualization options\n",
    "\n",
    "We can also go back to our original data `df` and plot that."
   ]
  },
  {
   "cell_type": "code",
   "execution_count": 40,
   "id": "8ee96dd7-19d5-47ad-8699-7afda61f5385",
   "metadata": {},
   "outputs": [
    {
     "data": {
      "text/plain": [
       "<AxesSubplot:>"
      ]
     },
     "execution_count": 40,
     "metadata": {},
     "output_type": "execute_result"
    },
    {
     "data": {
      "image/png": "[encoded data removed]",
      "text/plain": [
       "<Figure size 432x288 with 1 Axes>"
      ]
     },
     "metadata": {
      "needs_background": "light"
     },
     "output_type": "display_data"
    }
   ],
   "source": [
    "df.plot()"
   ]
  },
  {
   "cell_type": "markdown",
   "id": "f67f3942-cdd3-420e-acdd-df0eef6eba33",
   "metadata": {},
   "source": [
    "OK that didn't work. Let's try plotting `pclass` and `age`. And I want it to be a scatterplot."
   ]
  },
  {
   "cell_type": "code",
   "execution_count": 44,
   "id": "c354a31d-f8da-4268-af5b-708e757f1f12",
   "metadata": {},
   "outputs": [
    {
     "data": {
      "text/plain": [
       "<AxesSubplot:xlabel='pclass', ylabel='age'>"
      ]
     },
     "execution_count": 44,
     "metadata": {},
     "output_type": "execute_result"
    },
    {
     "data": {
      "image/png": "[encoded data removed]",
      "text/plain": [
       "<Figure size 432x288 with 1 Axes>"
      ]
     },
     "metadata": {
      "needs_background": "light"
     },
     "output_type": "display_data"
    }
   ],
   "source": [
    "df.plot(x=\"pclass\",y=\"age\",kind=\"scatter\")"
   ]
  },
  {
   "cell_type": "markdown",
   "id": "7be7584d-cdfc-465c-8740-d28a838dccba",
   "metadata": {},
   "source": [
    "This is showing us the range of ages on the Titanic, but this chart isn't perfect, so we will make the following changes:\n",
    "\n",
    "* Give the dots some opacity using the `alpha` option\n",
    "* Increase the size of the dots using the `s` option\n",
    "* Increase the size of the entire chart using the `figsize` option\n",
    "* Set the x-axis ticks to 1, 2, and 3 using the `xticks` function\n",
    "\n",
    "More options [here](https://pandas.pydata.org/docs/reference/api/pandas.DataFrame.plot.html)."
   ]
  },
  {
   "cell_type": "code",
   "execution_count": 65,
   "id": "ea24d294-4296-4151-bb9b-ec952774b357",
   "metadata": {},
   "outputs": [
    {
     "data": {
      "text/plain": [
       "<AxesSubplot:xlabel='pclass', ylabel='age'>"
      ]
     },
     "execution_count": 65,
     "metadata": {},
     "output_type": "execute_result"
    },
    {
     "data": {
      "image/png": "[encoded data removed]",
      "text/plain": [
       "<Figure size 720x432 with 1 Axes>"
      ]
     },
     "metadata": {
      "needs_background": "light"
     },
     "output_type": "display_data"
    }
   ],
   "source": [
    "df.plot(x=\"pclass\",y=\"age\",kind=\"scatter\", alpha=0.02, s=100, figsize=(10,6),  xticks=[1,2,3])"
   ]
  },
  {
   "cell_type": "markdown",
   "id": "14ef0c36-4033-4ea6-aab6-8f983a9d758d",
   "metadata": {},
   "source": [
    "We can do the same thing with fares."
   ]
  },
  {
   "cell_type": "code",
   "execution_count": 66,
   "id": "e9f9a458-c024-472f-9716-fe6e736cf331",
   "metadata": {},
   "outputs": [
    {
     "data": {
      "text/plain": [
       "<AxesSubplot:xlabel='pclass', ylabel='fare'>"
      ]
     },
     "execution_count": 66,
     "metadata": {},
     "output_type": "execute_result"
    },
    {
     "data": {
      "image/png": "[encoded data removed]",
      "text/plain": [
       "<Figure size 720x432 with 1 Axes>"
      ]
     },
     "metadata": {
      "needs_background": "light"
     },
     "output_type": "display_data"
    }
   ],
   "source": [
    "df.plot(x=\"pclass\",y=\"fare\",kind=\"scatter\", alpha=0.02, s=100, figsize=(10,6), xticks=[1,2,3])"
   ]
  },
  {
   "cell_type": "markdown",
   "id": "280c0183-2add-42f6-b302-c81a06abe09e",
   "metadata": {},
   "source": [
    "There is an outlier for fares, so we can adjust the y-axis to cut that out using `ylim` where you can set a min and max."
   ]
  },
  {
   "cell_type": "code",
   "execution_count": 73,
   "id": "66114775-269a-48df-a774-b46dd7108b7e",
   "metadata": {},
   "outputs": [
    {
     "data": {
      "text/plain": [
       "<AxesSubplot:xlabel='pclass', ylabel='fare'>"
      ]
     },
     "execution_count": 73,
     "metadata": {},
     "output_type": "execute_result"
    },
    {
     "data": {
      "image/png": "[encoded data removed]",
      "text/plain": [
       "<Figure size 720x432 with 1 Axes>"
      ]
     },
     "metadata": {
      "needs_background": "light"
     },
     "output_type": "display_data"
    }
   ],
   "source": [
    "df.plot(x=\"pclass\",y=\"fare\",kind=\"scatter\", alpha=0.02, s=100, figsize=(10,6), xticks=[1,2,3], ylim=[0,300])"
   ]
  },
  {
   "cell_type": "markdown",
   "id": "03a67b60-edbd-4b45-ad80-6f09c4930fdb",
   "metadata": {},
   "source": [
    "## Data exercise\n",
    "\n",
    "What was a passenger's survival rate based on their pclass? Find the answer and then chart it."
   ]
  },
  {
   "cell_type": "code",
   "execution_count": null,
   "id": "70f9af99-e7e5-4078-acb4-d262d19db5cf",
   "metadata": {},
   "outputs": [],
   "source": []
  }
 ],
 "metadata": {
  "kernelspec": {
   "display_name": "Python 3 (ipykernel)",
   "language": "python",
   "name": "python3"
  },
  "language_info": {
   "codemirror_mode": {
    "name": "ipython",
    "version": 3
   },
   "file_extension": ".py",
   "mimetype": "text/x-python",
   "name": "python",
   "nbconvert_exporter": "python",
   "pygments_lexer": "ipython3",
   "version": "3.9.12"
  }
 },
 "nbformat": 4,
 "nbformat_minor": 5
}
